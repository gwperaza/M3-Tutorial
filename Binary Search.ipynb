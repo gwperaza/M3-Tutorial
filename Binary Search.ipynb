{
 "cells": [
  {
   "cell_type": "code",
   "execution_count": 11,
   "id": "4391f812-5ba3-446b-b8ec-920d05441654",
   "metadata": {},
   "outputs": [],
   "source": [
    "class Solution:\n",
    "    def binarySearch(self, arr,k):\n",
    "        left, right = 0, len(arr) - 1\n",
    "        result = -1\n",
    "        while left <= right:\n",
    "            mid = left + (right -  left)/2\n",
    "        if arr[mid] == k:\n",
    "            result = mid\n",
    "            right = mid - 1\n",
    "        elif arr[mid] < k:\n",
    "            left = mid + 1\n",
    "        else:\n",
    "            right = mid - 1\n",
    "        return result\n",
    "\n",
    "arr = [1, 2, 3, 4, 5]\n",
    "k = 4"
   ]
  }
 ],
 "metadata": {
  "kernelspec": {
   "display_name": "Python [conda env:base] *",
   "language": "python",
   "name": "conda-base-py"
  },
  "language_info": {
   "codemirror_mode": {
    "name": "ipython",
    "version": 3
   },
   "file_extension": ".py",
   "mimetype": "text/x-python",
   "name": "python",
   "nbconvert_exporter": "python",
   "pygments_lexer": "ipython3",
   "version": "3.12.7"
  }
 },
 "nbformat": 4,
 "nbformat_minor": 5
}
